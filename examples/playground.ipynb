{
 "cells": [
  {
   "cell_type": "markdown",
   "metadata": {},
   "source": [
    "# Playing with the PyUNLocBoX\n",
    "<https://github.com/epfl-lts2/pyunlocbox>"
   ]
  },
  {
   "cell_type": "code",
   "execution_count": null,
   "metadata": {},
   "outputs": [],
   "source": [
    "%matplotlib inline\n",
    "\n",
    "import numpy as np\n",
    "import matplotlib.pyplot as plt\n",
    "from pyunlocbox import functions, solvers\n",
    "\n",
    "plt.rcParams['figure.figsize'] = (17, 5)"
   ]
  },
  {
   "cell_type": "markdown",
   "metadata": {},
   "source": [
    "## 1 Solve an optimization problem\n",
    "\n",
    "Following is a typical usage example who solves an optimization problem composed by the sum of two convex functions. The functions and solver objects are first instantiated with the desired parameters. The problem is then solved by a call to the solving function."
   ]
  },
  {
   "cell_type": "code",
   "execution_count": null,
   "metadata": {},
   "outputs": [],
   "source": [
    "f1 = functions.norm_l2(y=[4, 5, 6, 7])\n",
    "f2 = functions.dummy()\n",
    "solver = solvers.forward_backward()\n",
    "ret = solvers.solve([f1, f2], [0., 0, 0, 0], solver, atol=1e-5)\n",
    "ret['sol']"
   ]
  },
  {
   "cell_type": "code",
   "execution_count": null,
   "metadata": {},
   "outputs": [],
   "source": [
    "plt.semilogy(np.array(ret['objective'])[:, 0], '.-');"
   ]
  },
  {
   "cell_type": "markdown",
   "metadata": {},
   "source": [
    "## 2 Define your own objective function\n",
    "\n",
    "In addtion to the functions available in `pyunlocbox.functions`, you can define your owns like below."
   ]
  },
  {
   "cell_type": "code",
   "execution_count": null,
   "metadata": {},
   "outputs": [],
   "source": [
    "class myfunc(functions.func):\n",
    "    def __init__(self, myparam=1, **kwargs):\n",
    "        self.myparam = myparam\n",
    "        super(myfunc, self).__init__(**kwargs)\n",
    "    def _eval(self, x):\n",
    "        return 0  # Function evaluated at x.\n",
    "    def _grad(self, x):\n",
    "        return x  # Gradient evaluated at x, if available.\n",
    "    def _prox(self, x, T):\n",
    "        return x  # Proximal operator evaluated at x, if available."
   ]
  },
  {
   "cell_type": "code",
   "execution_count": null,
   "metadata": {},
   "outputs": [],
   "source": [
    "f = myfunc(myparam=2)\n",
    "f.cap([0, 0])"
   ]
  },
  {
   "cell_type": "markdown",
   "metadata": {},
   "source": [
    "Likewise, you can implement your owns solvers and acceleration schemes by sub-classing `pyunlocbox.solvers.solver` and `pyunlocbox.acceleration.accel`."
   ]
  },
  {
   "cell_type": "markdown",
   "metadata": {},
   "source": [
    "## 3 Tutorials\n",
    "\n",
    "Try to follow one of our [tutorials](https://pyunlocbox.readthedocs.io/en/stable/tutorials/index.html)."
   ]
  },
  {
   "cell_type": "code",
   "execution_count": null,
   "metadata": {},
   "outputs": [],
   "source": [
    "# Your code here."
   ]
  },
  {
   "cell_type": "markdown",
   "metadata": {},
   "source": [
    "## 4 Playground\n",
    "\n",
    "Or try anything that goes through your mind!\n",
    "Look at the [reference guide](https://pyunlocbox.readthedocs.io/en/stable/reference/index.html) to know more about the API."
   ]
  },
  {
   "cell_type": "code",
   "execution_count": null,
   "metadata": {},
   "outputs": [],
   "source": [
    "# Your code here."
   ]
  },
  {
   "cell_type": "markdown",
   "metadata": {},
   "source": [
    "If you miss a package, you can install it with:"
   ]
  },
  {
   "cell_type": "code",
   "execution_count": null,
   "metadata": {},
   "outputs": [],
   "source": [
    "%pip install numpy"
   ]
  }
 ],
 "metadata": {},
 "nbformat": 4,
 "nbformat_minor": 4
}
